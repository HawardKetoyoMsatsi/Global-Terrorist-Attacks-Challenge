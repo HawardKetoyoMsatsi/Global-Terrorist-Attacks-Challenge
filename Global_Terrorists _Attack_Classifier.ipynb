{
 "cells": [
  {
   "cell_type": "markdown",
   "metadata": {},
   "source": [
    "# Model to predict what group may have been responsible for a given incident of terrorism.\n",
    "Terrorism is ont of the biggest challenges Facing humanity in current times and in the recent past. The fignt against Terrorism has always been a concern to most countries if not all. One way to fight this challenge is going to the root and Identify the perpetrators of the crimes. In this work we try to identify groups that may be linked to different incidences of crime.\n",
    "\n",
    "The datase used in this project is from the Global Terrorism Database (GTD) which is is an open-source database including information on terrorist events around the world from 1970 through 2014. \n",
    "From this dataset attack linked to Terrorism is defined to be have three major characteristics; it must be intentional, it must have violence or threat of violence and it must be done by non-state organizations\n",
    "\n"
   ]
  },
  {
   "cell_type": "code",
   "execution_count": 1,
   "metadata": {},
   "outputs": [],
   "source": [
    "'''We first import the libraries we need in the entire model'''\n",
    "from __future__ import absolute_import\n",
    "from __future__ import division\n",
    "from __future__ import print_function\n",
    "\n",
    "import numpy as np # linear algebra operations\n",
    "import pandas as pd # For inputing csv files\n",
    "import matplotlib.pyplot as plt # For plotting \n",
    "import tensorflow as tf # For neural networks/deep learning \n",
    "%matplotlib inline  "
   ]
  },
  {
   "cell_type": "markdown",
   "metadata": {},
   "source": [
    "We begin by reading the data into a dataframe and then munch, visualize and do further analysis on it."
   ]
  },
  {
   "cell_type": "code",
   "execution_count": 2,
   "metadata": {
    "scrolled": true
   },
   "outputs": [
    {
     "name": "stderr",
     "output_type": "stream",
     "text": [
      "/home/ketoyo/.local/lib/python3.5/site-packages/IPython/core/interactiveshell.py:3020: DtypeWarning: Columns (4,6,31,33,61,62,63,76,79,90,92,94,96,114,115,121) have mixed types. Specify dtype option on import or set low_memory=False.\n",
      "  interactivity=interactivity, compiler=compiler, result=result)\n"
     ]
    }
   ],
   "source": [
    "#Read the data into pandas dataframe\n",
    "data0 = pd.read_csv('../GTD_0718dist/data.csv')"
   ]
  },
  {
   "cell_type": "raw",
   "metadata": {},
   "source": [
    "we remove features that are not useful for the analysis we are going to make. These includes the non numeric columns that cannot be transforrmed into categories. We do this based on the description given in the documentation for the dataset."
   ]
  },
  {
   "cell_type": "code",
   "execution_count": 3,
   "metadata": {},
   "outputs": [],
   "source": [
    "unneeded = ['eventid','iyear','imonth','iday','approxdate','extended','resolution',\n",
    "'country','country_txt','region','region_txt','provstate','city','latitude','longitude',\n",
    "'specificity','vicinity','location','summary','crit1','crit2','crit3','doubtterr',\n",
    "'alternative','alternative_txt','multiple','success','suicide',\n",
    "#'attacktype1',\n",
    "#'attacktype1_txt',\n",
    " #'attacktype2',\n",
    "'attacktype2_txt',\n",
    "#'attacktype3',\n",
    "'attacktype3_txt',\n",
    "# 'targtype1',\n",
    "'targtype1_txt',# 'targsubtype1',\n",
    "'targsubtype1_txt', 'corp1','target1','natlty1',\n",
    "'natlty1_txt',#'targtype2',\n",
    " 'targtype2_txt',#'targsubtype2',\n",
    "'targsubtype2_txt','corp2','target2','natlty2',\n",
    "'natlty2_txt',#'targtype3',\n",
    "'targtype3_txt',#'targsubtype3',\n",
    "'targsubtype3_txt','corp3','target3','natlty3',\n",
    "'natlty3_txt',\n",
    " #'gname',\n",
    "'gsubname','gname2','gsubname2','gname3','gsubname3',\n",
    "'motive','guncertain1','guncertain2','guncertain3','individual','nperps',\n",
    "'nperpcap',#'claimed',\n",
    "'claimmode','claimmode_txt',\n",
    " #'claim2',\n",
    "'claimmode2','claimmode2_txt',\n",
    "#'claim3',\n",
    "'claimmode3','claimmode3_txt','compclaim',\n",
    " #'weaptype1',\n",
    "#'weaptype1_txt',#'weapsubtype1',\n",
    "'weapsubtype1_txt',#'weaptype2',\n",
    " 'weaptype2_txt',#'weapsubtype2',\n",
    "'weapsubtype2_txt',#'weaptype3',\n",
    "'weaptype3_txt',#'weapsubtype3',\n",
    "'weapsubtype3_txt', #'weaptype4',\n",
    "'weaptype4_txt',#'weapsubtype4',\n",
    " 'weapsubtype4_txt','weapdetail',\n",
    "#'nkill',\n",
    "#'nkillus','nkillter','nwound','nwoundus','nwoundte','property','propextent',\n",
    "'propextent_txt',#'propvalue', \n",
    "            'propcomment',#'ishostkid','nhostkid','nhostkidus','nhours','ndays',\n",
    "            'divert',\n",
    "'kidhijcountry',#'ransom','ransomamt','ransomamtus','ransompaid','ransompaidus',\n",
    "'ransomnote',#'hostkidoutcome',\n",
    "'hostkidoutcome_txt',#'nreleased',\n",
    "'addnotes','scite1',\n",
    "'scite2','scite3','dbsource','INT_LOG','INT_IDEO','INT_MISC','INT_ANY','related']"
   ]
  },
  {
   "cell_type": "code",
   "execution_count": 4,
   "metadata": {},
   "outputs": [],
   "source": [
    "#Drop the columns that are not of interest and fill all NaN values with 0.\n",
    "data1 = data0.drop(unneeded, axis=1)\n",
    "data1 = data1.fillna(0)"
   ]
  },
  {
   "cell_type": "markdown",
   "metadata": {},
   "source": [
    "Our main activity is to find different groups of people responsible for given attacks. We dont have the groups of people, we therefore have to derive the groups from the data available.To find our labels (groups involved), we will have to find frequently appearing words in the Perpetrator Group Name  that can be linked to a given group. We search for these frequently appearing words then label the given entry with a name from these frequently appearing words."
   ]
  },
  {
   "cell_type": "code",
   "execution_count": 5,
   "metadata": {},
   "outputs": [],
   "source": [
    "#Split the Perpetrator Group Name (gname) to identify frequently occuring words\n",
    "data3 = data1.gname.str.split(expand=True).stack().value_counts()"
   ]
  },
  {
   "cell_type": "code",
   "execution_count": 6,
   "metadata": {},
   "outputs": [
    {
     "data": {
      "text/plain": [
       "Unknown          82782\n",
       "of               19956\n",
       "Liberation       12942\n",
       "the              10696\n",
       "Army             10518\n",
       "Islamic           9569\n",
       "Front             9431\n",
       "National          9129\n",
       "and               8250\n",
       "Taliban           7520\n",
       "State             7307\n",
       "Iraq              6421\n",
       "Levant            5614\n",
       "(ISIL)            5613\n",
       "People's          5493\n",
       "Revolutionary     5106\n",
       "Party             4936\n",
       "Path              4558\n",
       "(SL)              4555\n",
       "Shining           4555\n",
       "dtype: int64"
      ]
     },
     "execution_count": 6,
     "metadata": {},
     "output_type": "execute_result"
    }
   ],
   "source": [
    "#View some friquently occuring words.\n",
    "data3.head(20)"
   ]
  },
  {
   "cell_type": "markdown",
   "metadata": {},
   "source": [
    "Create dataframes with the Perpetrator Group Name being one of the frequently appearing names of perpetrators. we then merge the dataframes together"
   ]
  },
  {
   "cell_type": "code",
   "execution_count": 7,
   "metadata": {},
   "outputs": [],
   "source": [
    "tempdata1 = data1[data1['gname'].str.contains(\"Revolutionary\")].head(3292)\n",
    "tempdata2 = data1[data1['gname'].str.contains(\"Christian\")].head(3292)\n",
    "tempdata3 = data1[data1['gname'].str.contains(\"Al-Shabaab\")].head(3292)\n",
    "tempdata4 = data1[data1['gname'].str.contains(\"Liberation\")].head(3292)\n",
    "tempdata5 = data1[data1['gname'].str.contains(\"Taliban\")].head(3292)\n",
    "tampdata1=tempdata1.loc[:,\"gname\"] = \"Revolutionary\"\n",
    "tampdata2=tempdata2.loc[:,\"gname\"] = \"Christian\"\n",
    "tampdata3=tempdata3.loc[:,\"gname\"] = \"Al-Shabaab\"\n",
    "tampdata4=tempdata4.loc[:,\"gname\"] = \"Liberation\"\n",
    "tampdata5=tempdata5.loc[:,\"gname\"] = \"Taliban\""
   ]
  },
  {
   "cell_type": "markdown",
   "metadata": {},
   "source": [
    "We then merge the dataframes into one dataframe. The group of Christians have only 25 entries (25entries are too few compared to entries in the the other datasets) therefore it is not included in the analysis."
   ]
  },
  {
   "cell_type": "code",
   "execution_count": 8,
   "metadata": {},
   "outputs": [],
   "source": [
    "#merge the dataframes\n",
    " data2= pd.concat([tempdata1, tempdata3,tempdata4,tempdata5],sort=False) "
   ]
  },
  {
   "cell_type": "code",
   "execution_count": 9,
   "metadata": {
    "scrolled": false
   },
   "outputs": [
    {
     "data": {
      "text/html": [
       "<div>\n",
       "<style scoped>\n",
       "    .dataframe tbody tr th:only-of-type {\n",
       "        vertical-align: middle;\n",
       "    }\n",
       "\n",
       "    .dataframe tbody tr th {\n",
       "        vertical-align: top;\n",
       "    }\n",
       "\n",
       "    .dataframe thead th {\n",
       "        text-align: right;\n",
       "    }\n",
       "</style>\n",
       "<table border=\"1\" class=\"dataframe\">\n",
       "  <thead>\n",
       "    <tr style=\"text-align: right;\">\n",
       "      <th></th>\n",
       "      <th>attacktype1</th>\n",
       "      <th>attacktype1_txt</th>\n",
       "      <th>attacktype2</th>\n",
       "      <th>attacktype3</th>\n",
       "      <th>targtype1</th>\n",
       "      <th>targsubtype1</th>\n",
       "      <th>targtype2</th>\n",
       "      <th>targsubtype2</th>\n",
       "      <th>targtype3</th>\n",
       "      <th>targsubtype3</th>\n",
       "      <th>...</th>\n",
       "      <th>nhostkidus</th>\n",
       "      <th>nhours</th>\n",
       "      <th>ndays</th>\n",
       "      <th>ransom</th>\n",
       "      <th>ransomamt</th>\n",
       "      <th>ransomamtus</th>\n",
       "      <th>ransompaid</th>\n",
       "      <th>ransompaidus</th>\n",
       "      <th>hostkidoutcome</th>\n",
       "      <th>nreleased</th>\n",
       "    </tr>\n",
       "  </thead>\n",
       "  <tbody>\n",
       "    <tr>\n",
       "      <th>50</th>\n",
       "      <td>7</td>\n",
       "      <td>Facility/Infrastructure Attack</td>\n",
       "      <td>0.0</td>\n",
       "      <td>0.0</td>\n",
       "      <td>2</td>\n",
       "      <td>21.0</td>\n",
       "      <td>0.0</td>\n",
       "      <td>0.0</td>\n",
       "      <td>0.0</td>\n",
       "      <td>0.0</td>\n",
       "      <td>...</td>\n",
       "      <td>0.0</td>\n",
       "      <td>0.0</td>\n",
       "      <td>0.0</td>\n",
       "      <td>0.0</td>\n",
       "      <td>0.0</td>\n",
       "      <td>0.0</td>\n",
       "      <td>0.0</td>\n",
       "      <td>0.0</td>\n",
       "      <td>0.0</td>\n",
       "      <td>0.0</td>\n",
       "    </tr>\n",
       "    <tr>\n",
       "      <th>51</th>\n",
       "      <td>7</td>\n",
       "      <td>Facility/Infrastructure Attack</td>\n",
       "      <td>0.0</td>\n",
       "      <td>0.0</td>\n",
       "      <td>21</td>\n",
       "      <td>107.0</td>\n",
       "      <td>0.0</td>\n",
       "      <td>0.0</td>\n",
       "      <td>0.0</td>\n",
       "      <td>0.0</td>\n",
       "      <td>...</td>\n",
       "      <td>0.0</td>\n",
       "      <td>0.0</td>\n",
       "      <td>0.0</td>\n",
       "      <td>0.0</td>\n",
       "      <td>0.0</td>\n",
       "      <td>0.0</td>\n",
       "      <td>0.0</td>\n",
       "      <td>0.0</td>\n",
       "      <td>0.0</td>\n",
       "      <td>0.0</td>\n",
       "    </tr>\n",
       "    <tr>\n",
       "      <th>52</th>\n",
       "      <td>7</td>\n",
       "      <td>Facility/Infrastructure Attack</td>\n",
       "      <td>0.0</td>\n",
       "      <td>0.0</td>\n",
       "      <td>1</td>\n",
       "      <td>8.0</td>\n",
       "      <td>0.0</td>\n",
       "      <td>0.0</td>\n",
       "      <td>0.0</td>\n",
       "      <td>0.0</td>\n",
       "      <td>...</td>\n",
       "      <td>0.0</td>\n",
       "      <td>0.0</td>\n",
       "      <td>0.0</td>\n",
       "      <td>0.0</td>\n",
       "      <td>0.0</td>\n",
       "      <td>0.0</td>\n",
       "      <td>0.0</td>\n",
       "      <td>0.0</td>\n",
       "      <td>0.0</td>\n",
       "      <td>0.0</td>\n",
       "    </tr>\n",
       "    <tr>\n",
       "      <th>55</th>\n",
       "      <td>3</td>\n",
       "      <td>Bombing/Explosion</td>\n",
       "      <td>0.0</td>\n",
       "      <td>0.0</td>\n",
       "      <td>1</td>\n",
       "      <td>4.0</td>\n",
       "      <td>0.0</td>\n",
       "      <td>0.0</td>\n",
       "      <td>0.0</td>\n",
       "      <td>0.0</td>\n",
       "      <td>...</td>\n",
       "      <td>0.0</td>\n",
       "      <td>0.0</td>\n",
       "      <td>0.0</td>\n",
       "      <td>0.0</td>\n",
       "      <td>0.0</td>\n",
       "      <td>0.0</td>\n",
       "      <td>0.0</td>\n",
       "      <td>0.0</td>\n",
       "      <td>0.0</td>\n",
       "      <td>0.0</td>\n",
       "    </tr>\n",
       "    <tr>\n",
       "      <th>56</th>\n",
       "      <td>3</td>\n",
       "      <td>Bombing/Explosion</td>\n",
       "      <td>0.0</td>\n",
       "      <td>0.0</td>\n",
       "      <td>1</td>\n",
       "      <td>4.0</td>\n",
       "      <td>0.0</td>\n",
       "      <td>0.0</td>\n",
       "      <td>0.0</td>\n",
       "      <td>0.0</td>\n",
       "      <td>...</td>\n",
       "      <td>0.0</td>\n",
       "      <td>0.0</td>\n",
       "      <td>0.0</td>\n",
       "      <td>0.0</td>\n",
       "      <td>0.0</td>\n",
       "      <td>0.0</td>\n",
       "      <td>0.0</td>\n",
       "      <td>0.0</td>\n",
       "      <td>0.0</td>\n",
       "      <td>0.0</td>\n",
       "    </tr>\n",
       "  </tbody>\n",
       "</table>\n",
       "<p>5 rows × 44 columns</p>\n",
       "</div>"
      ],
      "text/plain": [
       "    attacktype1                 attacktype1_txt  attacktype2  attacktype3  \\\n",
       "50            7  Facility/Infrastructure Attack          0.0          0.0   \n",
       "51            7  Facility/Infrastructure Attack          0.0          0.0   \n",
       "52            7  Facility/Infrastructure Attack          0.0          0.0   \n",
       "55            3               Bombing/Explosion          0.0          0.0   \n",
       "56            3               Bombing/Explosion          0.0          0.0   \n",
       "\n",
       "    targtype1  targsubtype1  targtype2  targsubtype2  targtype3  targsubtype3  \\\n",
       "50          2          21.0        0.0           0.0        0.0           0.0   \n",
       "51         21         107.0        0.0           0.0        0.0           0.0   \n",
       "52          1           8.0        0.0           0.0        0.0           0.0   \n",
       "55          1           4.0        0.0           0.0        0.0           0.0   \n",
       "56          1           4.0        0.0           0.0        0.0           0.0   \n",
       "\n",
       "      ...     nhostkidus  nhours  ndays  ransom  ransomamt ransomamtus  \\\n",
       "50    ...            0.0     0.0    0.0     0.0        0.0         0.0   \n",
       "51    ...            0.0     0.0    0.0     0.0        0.0         0.0   \n",
       "52    ...            0.0     0.0    0.0     0.0        0.0         0.0   \n",
       "55    ...            0.0     0.0    0.0     0.0        0.0         0.0   \n",
       "56    ...            0.0     0.0    0.0     0.0        0.0         0.0   \n",
       "\n",
       "    ransompaid  ransompaidus  hostkidoutcome  nreleased  \n",
       "50         0.0           0.0             0.0        0.0  \n",
       "51         0.0           0.0             0.0        0.0  \n",
       "52         0.0           0.0             0.0        0.0  \n",
       "55         0.0           0.0             0.0        0.0  \n",
       "56         0.0           0.0             0.0        0.0  \n",
       "\n",
       "[5 rows x 44 columns]"
      ]
     },
     "execution_count": 9,
     "metadata": {},
     "output_type": "execute_result"
    }
   ],
   "source": [
    "#View a few entries of the dataframe\n",
    "data2.head()"
   ]
  },
  {
   "cell_type": "markdown",
   "metadata": {},
   "source": [
    "We are going to do some analysis on this data to see if we can find some important information that can inform us on the best steps and decisions and assumptions to make."
   ]
  },
  {
   "cell_type": "code",
   "execution_count": 10,
   "metadata": {
    "scrolled": true
   },
   "outputs": [
    {
     "data": {
      "image/png": "[encoded data removed]",
      "text/plain": [
       "<Figure size 1440x360 with 4 Axes>"
      ]
     },
     "metadata": {
      "needs_background": "light"
     },
     "output_type": "display_data"
    }
   ],
   "source": [
    "#Attack type for the four groups of perpetrators\n",
    "plt.figure(figsize=(20, 5))\n",
    "count1 = tempdata1['attacktype1_txt'].value_counts()\n",
    "attacktype1 = tempdata1['attacktype1_txt'].value_counts().keys()\n",
    "plt.subplot(1,4,1)\n",
    "plt.bar(attacktype1, count1)\n",
    "plt.ylabel('frequency')\n",
    "plt.xlabel('Attack type')\n",
    "plt.title('Revolutionary')\n",
    "plt.xticks(rotation=90)\n",
    "\n",
    "count1 = tempdata3['attacktype1_txt'].value_counts()\n",
    "attacktype1 = tempdata3['attacktype1_txt'].value_counts().keys()\n",
    "plt.subplot(1, 4, 2)\n",
    "plt.bar(attacktype1, count1)\n",
    "plt.ylabel('frequency')\n",
    "plt.xlabel('Attack type')\n",
    "plt.title('Alshabab')\n",
    "plt.xticks(rotation=90)\n",
    "\n",
    "count1 = tempdata4['attacktype1_txt'].value_counts()\n",
    "attacktype1 = tempdata4['attacktype1_txt'].value_counts().keys()\n",
    "plt.subplot(1, 4, 3)\n",
    "plt.bar(attacktype1, count1)\n",
    "plt.ylabel('frequency')\n",
    "plt.xlabel('Attack type')\n",
    "plt.title('Liberation')\n",
    "plt.xticks(rotation=90)\n",
    "\n",
    "count1 = tempdata1['attacktype1_txt'].value_counts()\n",
    "attacktype1 = tempdata1['attacktype1_txt'].value_counts().keys()\n",
    "plt.subplot(1, 4,4)\n",
    "plt.bar(attacktype1, count1)\n",
    "plt.ylabel('frequency')\n",
    "plt.xlabel('Attack type')\n",
    "plt.title('Taliban ')\n",
    "plt.xticks(rotation=90)\n",
    "plt.show()\n"
   ]
  },
  {
   "cell_type": "markdown",
   "metadata": {},
   "source": [
    "From the above plots we can see that all groups frequently attacked by bombing and armed asault. Besides these two Histage Taking(Kidnapping) was used more frequently by the Revolutionary group compared to the other groups."
   ]
  },
  {
   "cell_type": "code",
   "execution_count": 11,
   "metadata": {
    "scrolled": true
   },
   "outputs": [
    {
     "data": {
      "image/png": "[encoded data removed]",
      "text/plain": [
       "<Figure size 1440x360 with 4 Axes>"
      ]
     },
     "metadata": {
      "needs_background": "light"
     },
     "output_type": "display_data"
    }
   ],
   "source": [
    "#Weapon used by the four ftoup of perpetrators\n",
    "plt.figure(figsize=(20, 5))\n",
    "count = tempdata1['weaptype1_txt'].value_counts()\n",
    "weapontype1 = tempdata1['weaptype1_txt'].value_counts().keys()\n",
    "plt.subplot(1, 4, 1)\n",
    "plt.bar(weapontype1, count)\n",
    "plt.ylabel('frequency')\n",
    "plt.xlabel('weapon type')\n",
    "plt.title('Revolutionary')\n",
    "plt.xticks(rotation=90)\n",
    "\n",
    "count = tempdata3['weaptype1_txt'].value_counts()\n",
    "weapontype1 = tempdata3['weaptype1_txt'].value_counts().keys()\n",
    "plt.subplot(1, 4, 2)\n",
    "plt.bar(weapontype1, count)\n",
    "plt.ylabel('frequency')\n",
    "plt.xlabel('weapon type')\n",
    "plt.title('Alshabab')\n",
    "plt.xticks(rotation=90)\n",
    "\n",
    "count = tempdata4['weaptype1_txt'].value_counts()\n",
    "weapontype1 = tempdata4['weaptype1_txt'].value_counts().keys()\n",
    "plt.subplot(1, 4,3)\n",
    "plt.bar(weapontype1, count)\n",
    "plt.ylabel('frequency')\n",
    "plt.xlabel('weapon type')\n",
    "plt.title('Liberation')\n",
    "plt.xticks(rotation=90)\n",
    "\n",
    "count = tempdata5['weaptype1_txt'].value_counts()\n",
    "weapontype1 = tempdata5['weaptype1_txt'].value_counts().keys()\n",
    "plt.subplot(1, 4, 4)\n",
    "plt.bar(weapontype1, count)\n",
    "plt.ylabel('frequency')\n",
    "plt.xlabel('weapon type')\n",
    "plt.title('Taliban')\n",
    "plt.xticks(rotation=90)\n",
    "plt.show()"
   ]
  },
  {
   "cell_type": "markdown",
   "metadata": {},
   "source": [
    "Although all the groups use explosives as their weapon, Revolutionary used explosives as almost much as they used firearms.\n",
    "For explosives; \n",
    "Revolutionary > 2300 but < 2500\n",
    "Alshabab >1500 but < 1600\n",
    "Liberation > 5500 but < 6000 --\n",
    "Liberation group are more likely to use explosive,\n",
    "                "
   ]
  },
  {
   "cell_type": "code",
   "execution_count": 12,
   "metadata": {},
   "outputs": [
    {
     "data": {
      "image/png": "[encoded data removed]",
      "text/plain": [
       "<Figure size 1440x360 with 4 Axes>"
      ]
     },
     "metadata": {
      "needs_background": "light"
     },
     "output_type": "display_data"
    }
   ],
   "source": [
    "#Weapon used by the four ftoup of perpetrators\n",
    "plt.figure(figsize=(20, 5))\n",
    "count = tempdata1['nkill'].value_counts()\n",
    "weapontype1 = tempdata1['nkill'].value_counts().keys()\n",
    "plt.subplot(1, 4, 1)\n",
    "plt.ylim(1, 1500)\n",
    "plt.xlim(1, 50)\n",
    "plt.bar(weapontype1, count)\n",
    "plt.ylabel('frequency')\n",
    "plt.xlabel('Number of diceased individuals from the attack')\n",
    "plt.title('Revolutionary')\n",
    "plt.xticks(rotation=90)\n",
    "\n",
    "count = tempdata3['nkill'].value_counts()\n",
    "weapontype1 = tempdata3['nkill'].value_counts().keys()\n",
    "plt.subplot(1, 4, 2)\n",
    "plt.ylim(1, 1500)\n",
    "plt.xlim(1, 50)\n",
    "plt.bar(weapontype1, count)\n",
    "plt.ylabel('frequency')\n",
    "plt.xlabel('Number of diceased individuals from the attack')\n",
    "plt.title('Alshabab')\n",
    "plt.xticks(rotation=90)\n",
    "\n",
    "count = tempdata4['nkill'].value_counts()\n",
    "weapontype1 = tempdata4['nkill'].value_counts().keys()\n",
    "plt.subplot(1, 4,3)\n",
    "plt.ylim(1, 1500)\n",
    "plt.xlim(1, 50)\n",
    "plt.bar(weapontype1, count)\n",
    "plt.ylabel('frequency')\n",
    "plt.xlabel('Number of diceased individuals from the attack')\n",
    "plt.title('Liberation')\n",
    "plt.xticks(rotation=90)\n",
    "\n",
    "count = tempdata5['nkill'].value_counts()\n",
    "weapontype1 = tempdata5['nkill'].value_counts().keys()\n",
    "plt.subplot(1, 4, 4)\n",
    "plt.ylim(1, 1500)\n",
    "plt.xlim(1, 50)\n",
    "plt.bar(weapontype1, count)\n",
    "plt.ylabel('frequency')\n",
    "plt.xlabel('Number of diceased individuals from the attack')\n",
    "plt.title('Taliban')\n",
    "plt.xticks(rotation=90)\n",
    "plt.show()"
   ]
  },
  {
   "cell_type": "code",
   "execution_count": 13,
   "metadata": {},
   "outputs": [
    {
     "data": {
      "image/png": "[encoded data removed]",
      "text/plain": [
       "<Figure size 1440x360 with 4 Axes>"
      ]
     },
     "metadata": {
      "needs_background": "light"
     },
     "output_type": "display_data"
    }
   ],
   "source": [
    "#Duration of attack(days) for the four group of perpetrators\n",
    "plt.figure(figsize=(20, 5))\n",
    "count = tempdata1['ndays'].value_counts()\n",
    "weapontype1 = tempdata1['ndays'].value_counts().keys()\n",
    "plt.subplot(1, 4, 1)\n",
    "plt.xlim(1, 100)\n",
    "plt.ylim(1, 60)\n",
    "plt.bar(weapontype1, count)\n",
    "plt.ylabel('frequency')\n",
    "plt.xlabel('Duration of attack(days)')\n",
    "plt.title('Revolutionary')\n",
    "plt.xticks(rotation=90)\n",
    "\n",
    "count = tempdata3['ndays'].value_counts()\n",
    "weapontype1 = tempdata3['ndays'].value_counts().keys()\n",
    "plt.subplot(1, 4, 2)\n",
    "plt.xlim(1, 100)\n",
    "plt.ylim(1, 60)\n",
    "plt.bar(weapontype1, count)\n",
    "plt.ylabel('frequency')\n",
    "plt.xlabel('Duration of attack(days)')\n",
    "plt.title('Alshabab')\n",
    "plt.xticks(rotation=90)\n",
    "\n",
    "count = tempdata4['ndays'].value_counts()\n",
    "weapontype1 = tempdata4['ndays'].value_counts().keys()\n",
    "plt.subplot(1, 4,3)\n",
    "plt.xlim(1, 100)\n",
    "plt.ylim(1, 60)\n",
    "plt.bar(weapontype1, count)\n",
    "plt.ylabel('frequency')\n",
    "plt.xlabel('Duration of attack(days)')\n",
    "plt.title('Liberation')\n",
    "plt.xticks(rotation=90)\n",
    "\n",
    "count = tempdata5['ndays'].value_counts()\n",
    "weapontype1 = tempdata5['ndays'].value_counts().keys()\n",
    "plt.subplot(1, 4, 4)\n",
    "plt.xlim(1, 100)\n",
    "plt.ylim(1, 60)\n",
    "plt.bar(weapontype1, count)\n",
    "plt.ylabel('frequency')\n",
    "plt.xlabel('Duration of attack(days)')\n",
    "plt.title('Taliban')\n",
    "plt.xticks(rotation=90)\n",
    "plt.show()"
   ]
  },
  {
   "cell_type": "markdown",
   "metadata": {},
   "source": [
    "Looking at the number of days an attack lasts. Alshabab had attacks lasting for fewer days while Revolutionary and Liberation had attacks lasting even upto over 80 days. This can also help to distinguish some Revolutionary and Revolutionary groups from the other groups."
   ]
  },
  {
   "cell_type": "code",
   "execution_count": 14,
   "metadata": {},
   "outputs": [
    {
     "data": {
      "image/png": "[encoded data removed]",
      "text/plain": [
       "<Figure size 1440x360 with 4 Axes>"
      ]
     },
     "metadata": {
      "needs_background": "light"
     },
     "output_type": "display_data"
    }
   ],
   "source": [
    "#Duration of attack(hours) by the four ftoup of perpetrators\n",
    "plt.figure(figsize=(20, 5))\n",
    "count = tempdata1['nhours'].value_counts()\n",
    "weapontype1 = tempdata1['nhours'].value_counts().keys()\n",
    "plt.subplot(1, 4, 1)\n",
    "plt.xlim(1, 10)\n",
    "plt.ylim(1, 20)\n",
    "plt.bar(weapontype1, count)\n",
    "plt.ylabel('frequency')\n",
    "plt.xlabel('Duration of attack(hours)')\n",
    "plt.title('Revolutionary')\n",
    "plt.xticks(rotation=90)\n",
    "\n",
    "count = tempdata3['nhours'].value_counts()\n",
    "weapontype1 = tempdata3['nhours'].value_counts().keys()\n",
    "plt.subplot(1, 4, 2)\n",
    "plt.xlim(1, 10)\n",
    "plt.ylim(1, 20)\n",
    "plt.bar(weapontype1, count)\n",
    "plt.ylabel('frequency')\n",
    "plt.xlabel('Duration of attack(hours)')\n",
    "plt.title('Alshabab')\n",
    "plt.xticks(rotation=90)\n",
    "\n",
    "count = tempdata4['nhours'].value_counts()\n",
    "weapontype1 = tempdata4['nhours'].value_counts().keys()\n",
    "plt.subplot(1, 4,3)\n",
    "plt.xlim(1, 10)\n",
    "plt.ylim(1, 20)\n",
    "plt.bar(weapontype1, count)\n",
    "plt.ylabel('frequency')\n",
    "plt.xlabel('Duration of attack(hours)')\n",
    "plt.title('Revolutionary')\n",
    "plt.xticks(rotation=90)\n",
    "\n",
    "count = tempdata5['nhours'].value_counts()\n",
    "weapontype1 = tempdata5['nhours'].value_counts().keys()\n",
    "plt.subplot(1, 4, 4)\n",
    "plt.xlim(1, 10)\n",
    "plt.ylim(1, 20)\n",
    "plt.bar(weapontype1, count)\n",
    "plt.ylabel('frequency')\n",
    "plt.xlabel('Duration of attack(hours)')\n",
    "plt.title('Taliban')\n",
    "plt.xticks(rotation=90)\n",
    "plt.show()"
   ]
  },
  {
   "cell_type": "markdown",
   "metadata": {},
   "source": [
    "Looking at hours too taliban have some attacks taking upto 8 hours while Alshabab their attacks tale less than two hours. Which can contribute to the difference between the two groups"
   ]
  },
  {
   "cell_type": "markdown",
   "metadata": {},
   "source": [
    "In the analysis above, linearly the groups extracted are correlated in very many instances. However we are going to employ the Artificial Neural Network algorithhm that can extraxt even non linear relationships between the data. We implement the artificial neural network using the Tensorflow libraries Abadi et al. (2015)."
   ]
  },
  {
   "cell_type": "code",
   "execution_count": 15,
   "metadata": {},
   "outputs": [],
   "source": [
    "def split_traintest( ):\n",
    "    '''This function reads gets the data frame and splits the data into \n",
    "    train set and test set'''\n",
    "    haward = data2\n",
    "    haward = haward.drop([\"attacktype1_txt\",\"weaptype1_txt\"], axis=1)\n",
    "    print(haward.shape)\n",
    "    print(len(haward['gname'].tolist()))\n",
    "    PRIMARY = haward.gname.unique().tolist()\n",
    "    #haward = haward.drop(\"tumour\", axis=1)\n",
    "    haward.gname = pd.Categorical(haward.gname).codes\n",
    "    haward = haward.astype(np.int64)\n",
    "    #divide train and test\n",
    "    msk = np.random.rand(len(haward)) < 0.6\n",
    "    train = haward[msk]\n",
    "    test = haward[~msk]\n",
    "    return train,test"
   ]
  },
  {
   "cell_type": "code",
   "execution_count": 16,
   "metadata": {},
   "outputs": [],
   "source": [
    "def load_data(p,y_name='gname'):\n",
    "    \"\"\"Extracts the labels from the train and test dataset together with the \n",
    "    labels as (train_x, train_y), (test_x, test_y).\"\"\"\n",
    "    train,test = split_traintest()\n",
    "    train_x, train_y = train, train.pop(y_name)\n",
    "    test_x, test_y = test, test.pop(y_name)\n",
    "\n",
    "    return (train_x, train_y), (test_x, test_y)"
   ]
  },
  {
   "cell_type": "code",
   "execution_count": 17,
   "metadata": {},
   "outputs": [],
   "source": [
    "def train_input_fn(features, labels, batch_size):\n",
    "    \"\"\"An input function for training\n",
    "    Convert the inputs to a Dataset.\n",
    "    Shuffle, repeat, and batch the examples.\n",
    "    Return the dataset.\"\"\"\n",
    "    \n",
    "    dataset = tf.data.Dataset.from_tensor_slices((dict(features), labels))\n",
    "    dataset = dataset.shuffle(1000).repeat().batch(batch_size)\n",
    "    return dataset"
   ]
  },
  {
   "cell_type": "code",
   "execution_count": 18,
   "metadata": {},
   "outputs": [],
   "source": [
    "def eval_input_fn(features, labels, batch_size):\n",
    "    \"\"\"An input function for evaluation or prediction\n",
    "    Convert the inputs to a Dataset.\n",
    "    Batch the examples\n",
    "    Return the dataset.\"\"\"\n",
    "    features=dict(features)\n",
    "    if labels is None:\n",
    "        # No labels, use only features.\n",
    "        inputs = features\n",
    "    else:\n",
    "        inputs = (features, labels)\n",
    "        \n",
    "    dataset = tf.data.Dataset.from_tensor_slices(inputs)\n",
    "\n",
    "    assert batch_size is not None, \"batch_size must not be None\"\n",
    "    dataset = dataset.batch(batch_size)\n",
    "    \n",
    "    return dataset\n"
   ]
  },
  {
   "cell_type": "code",
   "execution_count": 19,
   "metadata": {},
   "outputs": [],
   "source": [
    "def my_model(features, labels, mode, params):\n",
    "    \"\"\"This function implements a Deep Neural Network (DNN) with three hidden layers \n",
    "    and dropout of 0.1 probability.\"\"\"\n",
    "    # Create three fully connected layers each layer having a dropout probability of 0.1.\n",
    "    net = tf.feature_column.input_layer(features, params['feature_columns'])\n",
    "    for units in params['hidden_units']:\n",
    "        net = tf.layers.dense(net, units=units, activation=tf.nn.relu)\n",
    "\n",
    "    # Compute logits (1 per class).\n",
    "    logits = tf.layers.dense(net, params['n_classes'], activation=None)\n",
    "\n",
    "    # Compute predictions.\n",
    "    predicted_classes = tf.argmax(logits, 1)\n",
    "    if mode == tf.estimator.ModeKeys.PREDICT:\n",
    "        predictions = {\n",
    "            'class_ids': predicted_classes[:, tf.newaxis],\n",
    "            'probabilities': tf.nn.softmax(logits),\n",
    "            'logits': logits,\n",
    "        }\n",
    "        return tf.estimator.EstimatorSpec(mode, predictions=predictions)\n",
    "\n",
    "    # Compute loss.\n",
    "    loss = tf.losses.sparse_softmax_cross_entropy(labels=labels, logits=logits)\n",
    "\n",
    "    # Compute evaluation metrics.\n",
    "    accuracy = tf.metrics.accuracy(labels=labels,\n",
    "                                   predictions=predicted_classes,\n",
    "                                   name='acc_op')\n",
    "    metrics = {'accuracy': accuracy}\n",
    "    tf.summary.scalar('accuracy', accuracy[1])\n",
    "\n",
    "    if mode == tf.estimator.ModeKeys.EVAL:\n",
    "        return tf.estimator.EstimatorSpec(\n",
    "            mode, loss=loss, eval_metric_ops=metrics)\n",
    "\n",
    "    # Create training op.\n",
    "    assert mode == tf.estimator.ModeKeys.TRAIN\n",
    "\n",
    "    optimizer = tf.train.AdagradOptimizer(learning_rate=0.1)\n",
    "    train_op = optimizer.minimize(loss, global_step=tf.train.get_global_step())\n",
    "    return tf.estimator.EstimatorSpec(mode, loss=loss, train_op=train_op)"
   ]
  },
  {
   "cell_type": "markdown",
   "metadata": {},
   "source": [
    "We now create and run the main function.\n",
    "We consider a batchsize of 1000 entries and 10000 training steps."
   ]
  },
  {
   "cell_type": "code",
   "execution_count": 20,
   "metadata": {},
   "outputs": [
    {
     "name": "stdout",
     "output_type": "stream",
     "text": [
      "(13168, 42)\n",
      "13168\n",
      "INFO:tensorflow:Using default config.\n",
      "WARNING:tensorflow:Using temporary folder as model directory: /tmp/tmpiualv0pz\n",
      "INFO:tensorflow:Using config: {'_save_checkpoints_steps': None, '_service': None, '_is_chief': True, '_keep_checkpoint_max': 5, '_eval_distribute': None, '_global_id_in_cluster': 0, '_protocol': None, '_session_config': allow_soft_placement: true\n",
      "graph_options {\n",
      "  rewrite_options {\n",
      "    meta_optimizer_iterations: ONE\n",
      "  }\n",
      "}\n",
      ", '_task_type': 'worker', '_cluster_spec': <tensorflow.python.training.server_lib.ClusterSpec object at 0x7f88d0d29048>, '_master': '', '_num_worker_replicas': 1, '_save_summary_steps': 100, '_evaluation_master': '', '_tf_random_seed': None, '_save_checkpoints_secs': 600, '_train_distribute': None, '_model_dir': '/tmp/tmpiualv0pz', '_device_fn': None, '_num_ps_replicas': 0, '_keep_checkpoint_every_n_hours': 10000, '_log_step_count_steps': 100, '_task_id': 0, '_experimental_distribute': None}\n",
      "INFO:tensorflow:Calling model_fn.\n",
      "INFO:tensorflow:Done calling model_fn.\n",
      "INFO:tensorflow:Create CheckpointSaverHook.\n",
      "INFO:tensorflow:Graph was finalized.\n",
      "INFO:tensorflow:Running local_init_op.\n",
      "INFO:tensorflow:Done running local_init_op.\n",
      "INFO:tensorflow:Saving checkpoints for 0 into /tmp/tmpiualv0pz/model.ckpt.\n",
      "INFO:tensorflow:loss = 3284.7397, step = 1\n",
      "INFO:tensorflow:global_step/sec: 9.58332\n",
      "INFO:tensorflow:loss = 1.3331556, step = 101 (10.437 sec)\n",
      "INFO:tensorflow:global_step/sec: 8.78674\n",
      "INFO:tensorflow:loss = 1.3297929, step = 201 (11.382 sec)\n",
      "INFO:tensorflow:global_step/sec: 9.00454\n",
      "INFO:tensorflow:loss = 1.0742381, step = 301 (11.104 sec)\n",
      "INFO:tensorflow:global_step/sec: 9.11609\n",
      "INFO:tensorflow:loss = 1.0163302, step = 401 (10.970 sec)\n",
      "INFO:tensorflow:global_step/sec: 8.93356\n",
      "INFO:tensorflow:loss = 1.141506, step = 501 (11.194 sec)\n",
      "INFO:tensorflow:global_step/sec: 8.34891\n",
      "INFO:tensorflow:loss = 1.0967631, step = 601 (11.977 sec)\n",
      "INFO:tensorflow:global_step/sec: 7.58557\n",
      "INFO:tensorflow:loss = 1.0132594, step = 701 (13.184 sec)\n",
      "INFO:tensorflow:global_step/sec: 9.82586\n",
      "INFO:tensorflow:loss = 0.90847886, step = 801 (10.176 sec)\n",
      "INFO:tensorflow:global_step/sec: 10.0952\n",
      "INFO:tensorflow:loss = 0.9924042, step = 901 (9.906 sec)\n",
      "INFO:tensorflow:global_step/sec: 9.73\n",
      "INFO:tensorflow:loss = 1.0295458, step = 1001 (10.277 sec)\n",
      "INFO:tensorflow:global_step/sec: 9.97886\n",
      "INFO:tensorflow:loss = 0.96237516, step = 1101 (10.021 sec)\n",
      "INFO:tensorflow:global_step/sec: 9.99359\n",
      "INFO:tensorflow:loss = 0.8859251, step = 1201 (10.009 sec)\n",
      "INFO:tensorflow:global_step/sec: 9.66309\n",
      "INFO:tensorflow:loss = 0.9714953, step = 1301 (10.346 sec)\n",
      "INFO:tensorflow:global_step/sec: 10.1606\n",
      "INFO:tensorflow:loss = 1.0098081, step = 1401 (9.842 sec)\n",
      "INFO:tensorflow:global_step/sec: 9.98559\n",
      "INFO:tensorflow:loss = 0.9585387, step = 1501 (10.015 sec)\n",
      "INFO:tensorflow:global_step/sec: 9.51829\n",
      "INFO:tensorflow:loss = 0.8811509, step = 1601 (10.505 sec)\n",
      "INFO:tensorflow:global_step/sec: 9.52897\n",
      "INFO:tensorflow:loss = 0.90633726, step = 1701 (10.494 sec)\n",
      "INFO:tensorflow:global_step/sec: 10.0019\n",
      "INFO:tensorflow:loss = 0.95841926, step = 1801 (9.999 sec)\n",
      "INFO:tensorflow:global_step/sec: 9.44069\n",
      "INFO:tensorflow:loss = 0.94692063, step = 1901 (10.592 sec)\n",
      "INFO:tensorflow:global_step/sec: 9.09688\n",
      "INFO:tensorflow:loss = 0.88882226, step = 2001 (10.993 sec)\n",
      "INFO:tensorflow:global_step/sec: 8.99951\n",
      "INFO:tensorflow:loss = 0.8580038, step = 2101 (11.112 sec)\n",
      "INFO:tensorflow:global_step/sec: 9.71115\n",
      "INFO:tensorflow:loss = 0.9236385, step = 2201 (10.299 sec)\n",
      "INFO:tensorflow:global_step/sec: 9.515\n",
      "INFO:tensorflow:loss = 0.96375847, step = 2301 (10.508 sec)\n",
      "INFO:tensorflow:global_step/sec: 9.4181\n",
      "INFO:tensorflow:loss = 0.9138903, step = 2401 (10.618 sec)\n",
      "INFO:tensorflow:global_step/sec: 6.53706\n",
      "INFO:tensorflow:loss = 0.8408836, step = 2501 (15.298 sec)\n",
      "INFO:tensorflow:global_step/sec: 7.58241\n",
      "INFO:tensorflow:loss = 0.9088638, step = 2601 (13.188 sec)\n",
      "INFO:tensorflow:global_step/sec: 9.72259\n",
      "INFO:tensorflow:loss = 0.94993687, step = 2701 (10.285 sec)\n",
      "INFO:tensorflow:global_step/sec: 8.76104\n",
      "INFO:tensorflow:loss = 0.8986952, step = 2801 (11.414 sec)\n",
      "INFO:tensorflow:global_step/sec: 8.50034\n",
      "INFO:tensorflow:loss = 0.84076756, step = 2901 (11.764 sec)\n",
      "INFO:tensorflow:global_step/sec: 10.1891\n",
      "INFO:tensorflow:loss = 0.8495521, step = 3001 (9.816 sec)\n",
      "INFO:tensorflow:global_step/sec: 10.2353\n",
      "INFO:tensorflow:loss = 0.909018, step = 3101 (9.771 sec)\n",
      "INFO:tensorflow:global_step/sec: 10.2168\n",
      "INFO:tensorflow:loss = 0.91030174, step = 3201 (9.788 sec)\n",
      "INFO:tensorflow:global_step/sec: 8.67822\n",
      "INFO:tensorflow:loss = 0.863244, step = 3301 (11.520 sec)\n",
      "INFO:tensorflow:global_step/sec: 10.1704\n",
      "INFO:tensorflow:loss = 0.8356475, step = 3401 (9.833 sec)\n",
      "INFO:tensorflow:global_step/sec: 10.2073\n",
      "INFO:tensorflow:loss = 0.88288915, step = 3501 (9.797 sec)\n",
      "INFO:tensorflow:global_step/sec: 10.1853\n",
      "INFO:tensorflow:loss = 0.9159914, step = 3601 (9.818 sec)\n",
      "INFO:tensorflow:global_step/sec: 10.2577\n",
      "INFO:tensorflow:loss = 0.88321126, step = 3701 (9.749 sec)\n",
      "INFO:tensorflow:global_step/sec: 10.2051\n",
      "INFO:tensorflow:loss = 0.8164999, step = 3801 (9.800 sec)\n",
      "INFO:tensorflow:global_step/sec: 10.2303\n",
      "INFO:tensorflow:loss = 0.8594214, step = 3901 (9.774 sec)\n",
      "INFO:tensorflow:global_step/sec: 10.3212\n",
      "INFO:tensorflow:loss = 0.89629966, step = 4001 (9.688 sec)\n",
      "INFO:tensorflow:global_step/sec: 9.84529\n",
      "INFO:tensorflow:loss = 0.89509034, step = 4101 (10.158 sec)\n",
      "INFO:tensorflow:global_step/sec: 10.2538\n",
      "INFO:tensorflow:loss = 0.8209228, step = 4201 (9.752 sec)\n",
      "INFO:tensorflow:global_step/sec: 9.79355\n",
      "INFO:tensorflow:loss = 0.8274843, step = 4301 (10.211 sec)\n",
      "INFO:tensorflow:global_step/sec: 8.38927\n",
      "INFO:tensorflow:loss = 0.87070256, step = 4401 (11.920 sec)\n",
      "INFO:tensorflow:global_step/sec: 9.35755\n",
      "INFO:tensorflow:loss = 0.88793117, step = 4501 (10.689 sec)\n",
      "INFO:tensorflow:global_step/sec: 9.48606\n",
      "INFO:tensorflow:loss = 0.841479, step = 4601 (10.540 sec)\n",
      "INFO:tensorflow:global_step/sec: 9.71412\n",
      "INFO:tensorflow:loss = 0.78403986, step = 4701 (10.294 sec)\n",
      "INFO:tensorflow:global_step/sec: 9.76156\n",
      "INFO:tensorflow:loss = 0.8415376, step = 4801 (10.245 sec)\n",
      "INFO:tensorflow:global_step/sec: 9.68642\n",
      "INFO:tensorflow:loss = 0.8927845, step = 4901 (10.325 sec)\n",
      "INFO:tensorflow:Saving checkpoints for 5000 into /tmp/tmpiualv0pz/model.ckpt.\n",
      "INFO:tensorflow:Loss for final step: 0.79829925.\n",
      "INFO:tensorflow:Calling model_fn.\n",
      "INFO:tensorflow:Done calling model_fn.\n",
      "INFO:tensorflow:Starting evaluation at 2018-12-17-05:42:45\n",
      "INFO:tensorflow:Graph was finalized.\n",
      "INFO:tensorflow:Restoring parameters from /tmp/tmpiualv0pz/model.ckpt-5000\n",
      "INFO:tensorflow:Running local_init_op.\n",
      "INFO:tensorflow:Done running local_init_op.\n",
      "INFO:tensorflow:Finished evaluation at 2018-12-17-05:42:45\n",
      "INFO:tensorflow:Saving dict for global step 5000: accuracy = 0.53779906, global_step = 5000, loss = 0.9105935\n",
      "INFO:tensorflow:Saving 'checkpoint_path' summary for global step 5000: /tmp/tmpiualv0pz/model.ckpt-5000\n",
      "\n",
      "Test set accuracy: 0.538\n",
      "\n",
      "INFO:tensorflow:Calling model_fn.\n",
      "INFO:tensorflow:Done calling model_fn.\n",
      "INFO:tensorflow:Starting evaluation at 2018-12-17-05:42:46\n",
      "INFO:tensorflow:Graph was finalized.\n",
      "INFO:tensorflow:Restoring parameters from /tmp/tmpiualv0pz/model.ckpt-5000\n",
      "INFO:tensorflow:Running local_init_op.\n",
      "INFO:tensorflow:Done running local_init_op.\n",
      "INFO:tensorflow:Finished evaluation at 2018-12-17-05:42:47\n",
      "INFO:tensorflow:Saving dict for global step 5000: accuracy = 0.5441269, global_step = 5000, loss = 0.84099406\n",
      "INFO:tensorflow:Saving 'checkpoint_path' summary for global step 5000: /tmp/tmpiualv0pz/model.ckpt-5000\n",
      "\n",
      "Train set accuracy: 0.544\n",
      "\n"
     ]
    },
    {
     "ename": "SystemExit",
     "evalue": "",
     "output_type": "error",
     "traceback": [
      "An exception has occurred, use %tb to see the full traceback.\n",
      "\u001b[0;31mSystemExit\u001b[0m\n"
     ]
    },
    {
     "name": "stderr",
     "output_type": "stream",
     "text": [
      "/home/ketoyo/.local/lib/python3.5/site-packages/IPython/core/interactiveshell.py:3275: UserWarning: To exit: use 'exit', 'quit', or Ctrl-D.\n",
      "  warn(\"To exit: use 'exit', 'quit', or Ctrl-D.\", stacklevel=1)\n"
     ]
    }
   ],
   "source": [
    "batch_size =3000\n",
    "train_steps =5000\n",
    "def main(argv):\n",
    "    # Fetch the data\n",
    "    mypcas = [13168]#[150]\n",
    "    for p in mypcas:\n",
    "        (train_x,train_y),(test_x,test_y) = load_data(p)\n",
    "\n",
    "        # Feature columns describe how to use the input.\n",
    "        my_feature_columns = []\n",
    "        for key in train_x.keys():\n",
    "            my_feature_columns.append(tf.feature_column.numeric_column(key=key))\n",
    "\n",
    "        # Build 2 hidden layer DNN with 10, 10 units respectively.\n",
    "        classifier = tf.estimator.Estimator(\n",
    "            model_fn=my_model,\n",
    "            params={\n",
    "                'feature_columns': my_feature_columns,\n",
    "                # Two hidden layers of 10 nodes each.\n",
    "                'hidden_units': [20,10,10],\n",
    "                # The model must choose between 3 classes.\n",
    "                'n_classes': 4,\n",
    "            })\n",
    "\n",
    "        # Train the Model.\n",
    "        classifier.train(\n",
    "            input_fn=lambda:train_input_fn(train_x, train_y, batch_size),\n",
    "            steps=train_steps)\n",
    "\n",
    "        # Evaluate the model.\n",
    "        eval_result = classifier.evaluate(\n",
    "            input_fn=lambda:eval_input_fn(test_x, test_y, batch_size))\n",
    "\n",
    "        print('\\nTest set accuracy: {accuracy:0.3f}\\n'.format(**eval_result))\n",
    "        eval_result1 = classifier.evaluate(\n",
    "        \tinput_fn=lambda:eval_input_fn(train_x, train_y, batch_size))\n",
    "        print('\\nTrain set accuracy: {accuracy:0.3f}\\n'.format(**eval_result1))\n",
    "\n",
    "\n",
    "if __name__ == '__main__':\n",
    "    tf.logging.set_verbosity(tf.logging.INFO)\n",
    "    tf.app.run(main)"
   ]
  },
  {
   "cell_type": "markdown",
   "metadata": {},
   "source": [
    "<H2>References</H2>\n",
    "Abadi, M., Agarwal, A., Barham, P., Brevdo, E., Chen, Z., Citro, C., Corrado, G. S.,\n",
    "Davis, A., Dean, J., Devin, M., Ghemawat, S., Goodfellow, I., Harp, A., Irving,\n",
    "G., Isard, M., Jia, Y., Jozefowicz, R., Kaiser, L., Kudlur, M., Levenberg, J., Mané,\n",
    "D., Monga, R., Moore, S., Murray, D., Olah, C., Schuster, M., Shlens, J., Steiner,\n",
    "B., Sutskever, I., Talwar, K., Tucker, P., Vanhoucke, V., Vasudevan, V., Viégas,\n",
    "F., Vinyals, O., Warden, P., Wattenberg, M., Wicke, M., Yu, Y., and Zheng, X.\n",
    "(2015), “TensorFlow: Large-Scale Machine Learning on Heterogeneous Systems,”\n",
    "Software available from tensorflow.org."
   ]
  }
 ],
 "metadata": {
  "kernelspec": {
   "display_name": "Python 3",
   "language": "python",
   "name": "python3"
  },
  "language_info": {
   "codemirror_mode": {
    "name": "ipython",
    "version": 3
   },
   "file_extension": ".py",
   "mimetype": "text/x-python",
   "name": "python",
   "nbconvert_exporter": "python",
   "pygments_lexer": "ipython3",
   "version": "3.5.2"
  }
 },
 "nbformat": 4,
 "nbformat_minor": 2
}
